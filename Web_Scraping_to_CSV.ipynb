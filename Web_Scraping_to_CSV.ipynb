{
 "cells": [
  {
   "cell_type": "code",
   "execution_count": 1,
   "metadata": {},
   "outputs": [],
   "source": [
    "import numpy as np\n",
    "import matplotlib.pyplot as plt\n",
    "import pandas as pd\n",
    "import requests\n",
    "from bs4 import BeautifulSoup"
   ]
  },
  {
   "cell_type": "code",
   "execution_count": 2,
   "metadata": {},
   "outputs": [
    {
     "name": "stdout",
     "output_type": "stream",
     "text": [
      "<class 'requests.models.Response'>\n"
     ]
    }
   ],
   "source": [
    "url = 'https://www.imdb.com/chart/top'\n",
    "\n",
    "## Fetch the webpage\n",
    "r = requests.get(url)\n",
    "print type(r)"
   ]
  },
  {
   "cell_type": "code",
   "execution_count": 3,
   "metadata": {},
   "outputs": [
    {
     "data": {
      "text/plain": [
       "200"
      ]
     },
     "execution_count": 3,
     "metadata": {},
     "output_type": "execute_result"
    }
   ],
   "source": [
    "r.status_code"
   ]
  },
  {
   "cell_type": "code",
   "execution_count": 4,
   "metadata": {},
   "outputs": [],
   "source": [
    "info = r.text"
   ]
  },
  {
   "cell_type": "code",
   "execution_count": 5,
   "metadata": {},
   "outputs": [],
   "source": [
    "soup = BeautifulSoup(r.text, 'html.parser')"
   ]
  },
  {
   "cell_type": "code",
   "execution_count": 6,
   "metadata": {},
   "outputs": [
    {
     "name": "stdout",
     "output_type": "stream",
     "text": [
      "<class 'bs4.BeautifulSoup'>\n"
     ]
    }
   ],
   "source": [
    "print type(soup)"
   ]
  },
  {
   "cell_type": "code",
   "execution_count": 7,
   "metadata": {},
   "outputs": [],
   "source": [
    "TITLES = []\n",
    "YEARS = []\n",
    "RATINGS = []\n",
    "URLS = []\n",
    "\n",
    "ACTORS = []\n",
    "DIRECTORS = []"
   ]
  },
  {
   "cell_type": "code",
   "execution_count": 8,
   "metadata": {},
   "outputs": [
    {
     "name": "stdout",
     "output_type": "stream",
     "text": [
      "1\n",
      "<class 'bs4.element.Tag'>\n"
     ]
    }
   ],
   "source": [
    "table_inf = soup.find_all('tbody', {'class': 'lister-list'})\n",
    "print len(table_inf)\n",
    "print type(table_inf[0])\n",
    "\n",
    "doc = table_inf[0]"
   ]
  },
  {
   "cell_type": "code",
   "execution_count": 9,
   "metadata": {},
   "outputs": [
    {
     "name": "stdout",
     "output_type": "stream",
     "text": [
      "250\n"
     ]
    }
   ],
   "source": [
    "rows = doc.find_all('tr')\n",
    "print len(rows)"
   ]
  },
  {
   "cell_type": "code",
   "execution_count": 13,
   "metadata": {},
   "outputs": [
    {
     "name": "stdout",
     "output_type": "stream",
     "text": [
      "<td class=\"titleColumn\">\n",
      "      1.\n",
      "      <a href=\"/title/tt0111161/?pf_rd_m=A2FGELUUNOQJNL&amp;pf_rd_p=e31d89dd-322d-4646-8962-327b42fe94b1&amp;pf_rd_r=CSESAR7MPGRFM0ZK3S2M&amp;pf_rd_s=center-1&amp;pf_rd_t=15506&amp;pf_rd_i=top&amp;ref_=chttp_tt_1\" title=\"Frank Darabont (dir.), Tim Robbins, Morgan Freeman\">The Shawshank Redemption</a>\n",
      "<span class=\"secondaryInfo\">(1994)</span>\n",
      "</td>\n"
     ]
    }
   ],
   "source": [
    "test_row = rows[0]\n",
    "title_column = test_row.find('td', {'class' : 'titleColumn'})\n",
    "print title_column\n",
    "#print title_column.a.text\n",
    "#print type(title_column.a.text.encode('utf-8'))"
   ]
  },
  {
   "cell_type": "code",
   "execution_count": 14,
   "metadata": {},
   "outputs": [
    {
     "name": "stdout",
     "output_type": "stream",
     "text": [
      "[<span class=\"secondaryInfo\">(1994)</span>]\n"
     ]
    }
   ],
   "source": [
    "list_of_span = title_column.find_all('span')\n",
    "print list_of_span"
   ]
  },
  {
   "cell_type": "code",
   "execution_count": 47,
   "metadata": {},
   "outputs": [
    {
     "name": "stdout",
     "output_type": "stream",
     "text": [
      "250\n"
     ]
    }
   ],
   "source": [
    "count = 0\n",
    "movie_root_url = 'https://www.imdb.com'\n",
    "for row in rows:\n",
    "    #if count>1:\n",
    "        #break\n",
    "    count+=1\n",
    "    title_column = row.find('td', {'class': 'titleColumn'})\n",
    "    rating_column = row.find('td', {'class' : 'ratingColumn'})\n",
    "    \n",
    "    movie_title = title_column.a.text\n",
    "    year = title_column.span.text.split('(')[-1].split(')')[0]\n",
    "    movie_rel_url = title_column.a['href']\n",
    "    movie_url = movie_root_url + movie_rel_url\n",
    "    \n",
    "    imp_people = title_column.a['title']\n",
    "    director = imp_people.split(',')[0].split('(')[0].strip()\n",
    "    \n",
    "    actors = ','.join(imp_people.split(',')[1:]).strip()\n",
    "    \n",
    "    rating = rating_column.strong.text\n",
    "    \n",
    "    TITLES.append(movie_title.encode('utf-8'))\n",
    "    YEARS.append(year.encode('utf-8'))\n",
    "    URLS.append(movie_url.encode('utf-8'))\n",
    "    RATINGS.append(rating.encode('utf-8'))\n",
    "    \n",
    "    ACTORS.append(actors.encode('utf-8'))\n",
    "    DIRECTORS.append(director.encode('utf-8'))\n",
    "    \n",
    "#     print movie_title\n",
    "#     print year\n",
    "#     print rating\n",
    "#     print movie_url\n",
    "#     print director\n",
    "#     print actors\n",
    "    #print '--------'\n",
    "print count"
   ]
  },
  {
   "cell_type": "code",
   "execution_count": 35,
   "metadata": {},
   "outputs": [],
   "source": [
    "print type(title_column)"
   ]
  },
  {
   "cell_type": "code",
   "execution_count": 48,
   "metadata": {},
   "outputs": [
    {
     "name": "stdout",
     "output_type": "stream",
     "text": [
      "250\n",
      "250\n",
      "250\n",
      "250\n"
     ]
    }
   ],
   "source": [
    "print len(TITLES)\n",
    "print len(DIRECTORS)\n",
    "print len(ACTORS)\n",
    "print len(RATINGS)"
   ]
  },
  {
   "cell_type": "code",
   "execution_count": 69,
   "metadata": {},
   "outputs": [],
   "source": [
    "empty_df = pd.DataFrame({'Title': TITLES, 'Rating': RATINGS, 'Year': YEARS, 'URL': URLS, 'Director': DIRECTORS, 'Actors': ACTORS}, columns=['Title', 'Year', 'Rating', 'Director', 'Actors', 'URL'])"
   ]
  },
  {
   "cell_type": "code",
   "execution_count": 15,
   "metadata": {},
   "outputs": [],
   "source": [
    "pd.DataFrame?"
   ]
  },
  {
   "cell_type": "code",
   "execution_count": 70,
   "metadata": {},
   "outputs": [
    {
     "data": {
      "text/html": [
       "<div>\n",
       "<style scoped>\n",
       "    .dataframe tbody tr th:only-of-type {\n",
       "        vertical-align: middle;\n",
       "    }\n",
       "\n",
       "    .dataframe tbody tr th {\n",
       "        vertical-align: top;\n",
       "    }\n",
       "\n",
       "    .dataframe thead th {\n",
       "        text-align: right;\n",
       "    }\n",
       "</style>\n",
       "<table border=\"1\" class=\"dataframe\">\n",
       "  <thead>\n",
       "    <tr style=\"text-align: right;\">\n",
       "      <th></th>\n",
       "      <th>Title</th>\n",
       "      <th>Year</th>\n",
       "      <th>Rating</th>\n",
       "      <th>Director</th>\n",
       "      <th>Actors</th>\n",
       "      <th>URL</th>\n",
       "    </tr>\n",
       "  </thead>\n",
       "  <tbody>\n",
       "    <tr>\n",
       "      <th>0</th>\n",
       "      <td>The Shawshank Redemption</td>\n",
       "      <td>1994</td>\n",
       "      <td>9.2</td>\n",
       "      <td>Frank Darabont</td>\n",
       "      <td>Tim Robbins, Morgan Freeman</td>\n",
       "      <td>https://www.imdb.com/title/tt0111161/?pf_rd_m=...</td>\n",
       "    </tr>\n",
       "    <tr>\n",
       "      <th>1</th>\n",
       "      <td>The Godfather</td>\n",
       "      <td>1972</td>\n",
       "      <td>9.2</td>\n",
       "      <td>Francis Ford Coppola</td>\n",
       "      <td>Marlon Brando, Al Pacino</td>\n",
       "      <td>https://www.imdb.com/title/tt0068646/?pf_rd_m=...</td>\n",
       "    </tr>\n",
       "    <tr>\n",
       "      <th>2</th>\n",
       "      <td>The Godfather: Part II</td>\n",
       "      <td>1974</td>\n",
       "      <td>9.0</td>\n",
       "      <td>Francis Ford Coppola</td>\n",
       "      <td>Al Pacino, Robert De Niro</td>\n",
       "      <td>https://www.imdb.com/title/tt0071562/?pf_rd_m=...</td>\n",
       "    </tr>\n",
       "    <tr>\n",
       "      <th>3</th>\n",
       "      <td>The Dark Knight</td>\n",
       "      <td>2008</td>\n",
       "      <td>9.0</td>\n",
       "      <td>Christopher Nolan</td>\n",
       "      <td>Christian Bale, Heath Ledger</td>\n",
       "      <td>https://www.imdb.com/title/tt0468569/?pf_rd_m=...</td>\n",
       "    </tr>\n",
       "  </tbody>\n",
       "</table>\n",
       "</div>"
      ],
      "text/plain": [
       "                      Title  Year Rating              Director  \\\n",
       "0  The Shawshank Redemption  1994    9.2        Frank Darabont   \n",
       "1             The Godfather  1972    9.2  Francis Ford Coppola   \n",
       "2    The Godfather: Part II  1974    9.0  Francis Ford Coppola   \n",
       "3           The Dark Knight  2008    9.0     Christopher Nolan   \n",
       "\n",
       "                         Actors  \\\n",
       "0   Tim Robbins, Morgan Freeman   \n",
       "1      Marlon Brando, Al Pacino   \n",
       "2     Al Pacino, Robert De Niro   \n",
       "3  Christian Bale, Heath Ledger   \n",
       "\n",
       "                                                 URL  \n",
       "0  https://www.imdb.com/title/tt0111161/?pf_rd_m=...  \n",
       "1  https://www.imdb.com/title/tt0068646/?pf_rd_m=...  \n",
       "2  https://www.imdb.com/title/tt0071562/?pf_rd_m=...  \n",
       "3  https://www.imdb.com/title/tt0468569/?pf_rd_m=...  "
      ]
     },
     "execution_count": 70,
     "metadata": {},
     "output_type": "execute_result"
    }
   ],
   "source": [
    "empty_df.head(n=4)"
   ]
  },
  {
   "cell_type": "code",
   "execution_count": 71,
   "metadata": {},
   "outputs": [],
   "source": [
    "empty_df.to_csv('./imdb.csv', index=False)"
   ]
  },
  {
   "cell_type": "code",
   "execution_count": 72,
   "metadata": {},
   "outputs": [
    {
     "data": {
      "text/html": [
       "<div>\n",
       "<style scoped>\n",
       "    .dataframe tbody tr th:only-of-type {\n",
       "        vertical-align: middle;\n",
       "    }\n",
       "\n",
       "    .dataframe tbody tr th {\n",
       "        vertical-align: top;\n",
       "    }\n",
       "\n",
       "    .dataframe thead th {\n",
       "        text-align: right;\n",
       "    }\n",
       "</style>\n",
       "<table border=\"1\" class=\"dataframe\">\n",
       "  <thead>\n",
       "    <tr style=\"text-align: right;\">\n",
       "      <th></th>\n",
       "      <th>Title</th>\n",
       "      <th>Year</th>\n",
       "      <th>Rating</th>\n",
       "      <th>Director</th>\n",
       "      <th>Actors</th>\n",
       "      <th>URL</th>\n",
       "    </tr>\n",
       "  </thead>\n",
       "  <tbody>\n",
       "    <tr>\n",
       "      <th>0</th>\n",
       "      <td>The Shawshank Redemption</td>\n",
       "      <td>1994</td>\n",
       "      <td>9.2</td>\n",
       "      <td>Frank Darabont</td>\n",
       "      <td>Tim Robbins, Morgan Freeman</td>\n",
       "      <td>https://www.imdb.com/title/tt0111161/?pf_rd_m=...</td>\n",
       "    </tr>\n",
       "    <tr>\n",
       "      <th>1</th>\n",
       "      <td>The Godfather</td>\n",
       "      <td>1972</td>\n",
       "      <td>9.2</td>\n",
       "      <td>Francis Ford Coppola</td>\n",
       "      <td>Marlon Brando, Al Pacino</td>\n",
       "      <td>https://www.imdb.com/title/tt0068646/?pf_rd_m=...</td>\n",
       "    </tr>\n",
       "    <tr>\n",
       "      <th>2</th>\n",
       "      <td>The Godfather: Part II</td>\n",
       "      <td>1974</td>\n",
       "      <td>9.0</td>\n",
       "      <td>Francis Ford Coppola</td>\n",
       "      <td>Al Pacino, Robert De Niro</td>\n",
       "      <td>https://www.imdb.com/title/tt0071562/?pf_rd_m=...</td>\n",
       "    </tr>\n",
       "    <tr>\n",
       "      <th>3</th>\n",
       "      <td>The Dark Knight</td>\n",
       "      <td>2008</td>\n",
       "      <td>9.0</td>\n",
       "      <td>Christopher Nolan</td>\n",
       "      <td>Christian Bale, Heath Ledger</td>\n",
       "      <td>https://www.imdb.com/title/tt0468569/?pf_rd_m=...</td>\n",
       "    </tr>\n",
       "    <tr>\n",
       "      <th>4</th>\n",
       "      <td>12 Angry Men</td>\n",
       "      <td>1957</td>\n",
       "      <td>8.9</td>\n",
       "      <td>Sidney Lumet</td>\n",
       "      <td>Henry Fonda, Lee J. Cobb</td>\n",
       "      <td>https://www.imdb.com/title/tt0050083/?pf_rd_m=...</td>\n",
       "    </tr>\n",
       "  </tbody>\n",
       "</table>\n",
       "</div>"
      ],
      "text/plain": [
       "                      Title  Year  Rating              Director  \\\n",
       "0  The Shawshank Redemption  1994     9.2        Frank Darabont   \n",
       "1             The Godfather  1972     9.2  Francis Ford Coppola   \n",
       "2    The Godfather: Part II  1974     9.0  Francis Ford Coppola   \n",
       "3           The Dark Knight  2008     9.0     Christopher Nolan   \n",
       "4              12 Angry Men  1957     8.9          Sidney Lumet   \n",
       "\n",
       "                         Actors  \\\n",
       "0   Tim Robbins, Morgan Freeman   \n",
       "1      Marlon Brando, Al Pacino   \n",
       "2     Al Pacino, Robert De Niro   \n",
       "3  Christian Bale, Heath Ledger   \n",
       "4      Henry Fonda, Lee J. Cobb   \n",
       "\n",
       "                                                 URL  \n",
       "0  https://www.imdb.com/title/tt0111161/?pf_rd_m=...  \n",
       "1  https://www.imdb.com/title/tt0068646/?pf_rd_m=...  \n",
       "2  https://www.imdb.com/title/tt0071562/?pf_rd_m=...  \n",
       "3  https://www.imdb.com/title/tt0468569/?pf_rd_m=...  \n",
       "4  https://www.imdb.com/title/tt0050083/?pf_rd_m=...  "
      ]
     },
     "execution_count": 72,
     "metadata": {},
     "output_type": "execute_result"
    }
   ],
   "source": [
    "movie_data = pd.read_csv('imdb.csv')\n",
    "movie_data.head(n=5)"
   ]
  },
  {
   "cell_type": "code",
   "execution_count": 73,
   "metadata": {},
   "outputs": [
    {
     "name": "stdout",
     "output_type": "stream",
     "text": [
      "(250, 6)\n"
     ]
    }
   ],
   "source": [
    "print movie_data.values.shape"
   ]
  },
  {
   "cell_type": "code",
   "execution_count": 66,
   "metadata": {},
   "outputs": [],
   "source": [
    "pd.DataFrame?"
   ]
  },
  {
   "cell_type": "code",
   "execution_count": null,
   "metadata": {},
   "outputs": [],
   "source": []
  }
 ],
 "metadata": {
  "kernelspec": {
   "display_name": "Python 2",
   "language": "python",
   "name": "python2"
  },
  "language_info": {
   "codemirror_mode": {
    "name": "ipython",
    "version": 2
   },
   "file_extension": ".py",
   "mimetype": "text/x-python",
   "name": "python",
   "nbconvert_exporter": "python",
   "pygments_lexer": "ipython2",
   "version": "2.7.15"
  }
 },
 "nbformat": 4,
 "nbformat_minor": 2
}
